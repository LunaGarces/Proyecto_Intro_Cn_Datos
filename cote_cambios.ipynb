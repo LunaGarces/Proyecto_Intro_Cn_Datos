{
 "cells": [
  {
   "cell_type": "code",
   "execution_count": 42,
   "metadata": {},
   "outputs": [],
   "source": [
    "import pandas as pd"
   ]
  },
  {
   "cell_type": "code",
   "execution_count": 49,
   "metadata": {},
   "outputs": [],
   "source": [
    "encuesta = pd.read_spss(\"Datasets/principal-encuestas_final/VIF_Final.sav\")"
   ]
  },
  {
   "cell_type": "code",
   "execution_count": 50,
   "metadata": {},
   "outputs": [],
   "source": [
    "encuesta\n",
    "#p48\" hasta \"p64_2\"\n",
    "replaces = {\"Si\" : 1, \"No\" : 2, \"\" :  0}\n",
    "encuesta['p48'] = encuesta['p48'].replace(replaces)"
   ]
  },
  {
   "cell_type": "code",
   "execution_count": 51,
   "metadata": {},
   "outputs": [],
   "source": [
    "encuesta[\"convivir\"] = encuesta['T_p49_1'] +encuesta['T_p49_2'] +encuesta['T_p49_3']"
   ]
  },
  {
   "cell_type": "code",
   "execution_count": null,
   "metadata": {},
   "outputs": [],
   "source": []
  },
  {
   "cell_type": "code",
   "execution_count": 52,
   "metadata": {},
   "outputs": [
    {
     "data": {
      "text/html": [
       "<div>\n",
       "<style scoped>\n",
       "    .dataframe tbody tr th:only-of-type {\n",
       "        vertical-align: middle;\n",
       "    }\n",
       "\n",
       "    .dataframe tbody tr th {\n",
       "        vertical-align: top;\n",
       "    }\n",
       "\n",
       "    .dataframe thead th {\n",
       "        text-align: right;\n",
       "    }\n",
       "</style>\n",
       "<table border=\"1\" class=\"dataframe\">\n",
       "  <thead>\n",
       "    <tr style=\"text-align: right;\">\n",
       "      <th></th>\n",
       "      <th>convivir</th>\n",
       "      <th>T_p49_1</th>\n",
       "      <th>T_p49_2</th>\n",
       "      <th>T_p49_3</th>\n",
       "      <th>reg_rec</th>\n",
       "    </tr>\n",
       "  </thead>\n",
       "  <tbody>\n",
       "    <tr>\n",
       "      <th>0</th>\n",
       "      <td>NaN</td>\n",
       "      <td>NaN</td>\n",
       "      <td>NaN</td>\n",
       "      <td>NaN</td>\n",
       "      <td>Región del Ñuble</td>\n",
       "    </tr>\n",
       "    <tr>\n",
       "      <th>1</th>\n",
       "      <td>NaN</td>\n",
       "      <td>NaN</td>\n",
       "      <td>NaN</td>\n",
       "      <td>NaN</td>\n",
       "      <td>Región del Maule</td>\n",
       "    </tr>\n",
       "    <tr>\n",
       "      <th>2</th>\n",
       "      <td>12.0</td>\n",
       "      <td>0.0</td>\n",
       "      <td>0.0</td>\n",
       "      <td>12.0</td>\n",
       "      <td>Región del Lib. Gral. Bdo. O´Higgins</td>\n",
       "    </tr>\n",
       "    <tr>\n",
       "      <th>3</th>\n",
       "      <td>13.0</td>\n",
       "      <td>2.0</td>\n",
       "      <td>6.0</td>\n",
       "      <td>5.0</td>\n",
       "      <td>Región de Arica y Parinacota</td>\n",
       "    </tr>\n",
       "    <tr>\n",
       "      <th>4</th>\n",
       "      <td>1.0</td>\n",
       "      <td>0.0</td>\n",
       "      <td>0.0</td>\n",
       "      <td>1.0</td>\n",
       "      <td>Región del Maule</td>\n",
       "    </tr>\n",
       "    <tr>\n",
       "      <th>...</th>\n",
       "      <td>...</td>\n",
       "      <td>...</td>\n",
       "      <td>...</td>\n",
       "      <td>...</td>\n",
       "      <td>...</td>\n",
       "    </tr>\n",
       "    <tr>\n",
       "      <th>7730</th>\n",
       "      <td>NaN</td>\n",
       "      <td>NaN</td>\n",
       "      <td>NaN</td>\n",
       "      <td>NaN</td>\n",
       "      <td>Región del Maule</td>\n",
       "    </tr>\n",
       "    <tr>\n",
       "      <th>7731</th>\n",
       "      <td>NaN</td>\n",
       "      <td>NaN</td>\n",
       "      <td>NaN</td>\n",
       "      <td>NaN</td>\n",
       "      <td>Región de Aysén</td>\n",
       "    </tr>\n",
       "    <tr>\n",
       "      <th>7732</th>\n",
       "      <td>NaN</td>\n",
       "      <td>NaN</td>\n",
       "      <td>NaN</td>\n",
       "      <td>NaN</td>\n",
       "      <td>Región de Valparaíso</td>\n",
       "    </tr>\n",
       "    <tr>\n",
       "      <th>7733</th>\n",
       "      <td>NaN</td>\n",
       "      <td>NaN</td>\n",
       "      <td>NaN</td>\n",
       "      <td>NaN</td>\n",
       "      <td>Región de Arica y Parinacota</td>\n",
       "    </tr>\n",
       "    <tr>\n",
       "      <th>7734</th>\n",
       "      <td>NaN</td>\n",
       "      <td>NaN</td>\n",
       "      <td>NaN</td>\n",
       "      <td>NaN</td>\n",
       "      <td>Región Metropolitana</td>\n",
       "    </tr>\n",
       "  </tbody>\n",
       "</table>\n",
       "<p>7735 rows × 5 columns</p>\n",
       "</div>"
      ],
      "text/plain": [
       "      convivir  T_p49_1  T_p49_2  T_p49_3  \\\n",
       "0          NaN      NaN      NaN      NaN   \n",
       "1          NaN      NaN      NaN      NaN   \n",
       "2         12.0      0.0      0.0     12.0   \n",
       "3         13.0      2.0      6.0      5.0   \n",
       "4          1.0      0.0      0.0      1.0   \n",
       "...        ...      ...      ...      ...   \n",
       "7730       NaN      NaN      NaN      NaN   \n",
       "7731       NaN      NaN      NaN      NaN   \n",
       "7732       NaN      NaN      NaN      NaN   \n",
       "7733       NaN      NaN      NaN      NaN   \n",
       "7734       NaN      NaN      NaN      NaN   \n",
       "\n",
       "                                   reg_rec  \n",
       "0                         Región del Ñuble  \n",
       "1                         Región del Maule  \n",
       "2     Región del Lib. Gral. Bdo. O´Higgins  \n",
       "3             Región de Arica y Parinacota  \n",
       "4                         Región del Maule  \n",
       "...                                    ...  \n",
       "7730                      Región del Maule  \n",
       "7731                       Región de Aysén  \n",
       "7732                  Región de Valparaíso  \n",
       "7733          Región de Arica y Parinacota  \n",
       "7734                  Región Metropolitana  \n",
       "\n",
       "[7735 rows x 5 columns]"
      ]
     },
     "execution_count": 52,
     "metadata": {},
     "output_type": "execute_result"
    }
   ],
   "source": [
    "encuesta[[\"convivir\",'T_p49_1','T_p49_2','T_p49_3', 'reg_rec']]"
   ]
  },
  {
   "cell_type": "code",
   "execution_count": 53,
   "metadata": {},
   "outputs": [
    {
     "data": {
      "text/html": [
       "<div>\n",
       "<style scoped>\n",
       "    .dataframe tbody tr th:only-of-type {\n",
       "        vertical-align: middle;\n",
       "    }\n",
       "\n",
       "    .dataframe tbody tr th {\n",
       "        vertical-align: top;\n",
       "    }\n",
       "\n",
       "    .dataframe thead th {\n",
       "        text-align: right;\n",
       "    }\n",
       "</style>\n",
       "<table border=\"1\" class=\"dataframe\">\n",
       "  <thead>\n",
       "    <tr style=\"text-align: right;\">\n",
       "      <th></th>\n",
       "      <th>convivir</th>\n",
       "    </tr>\n",
       "  </thead>\n",
       "  <tbody>\n",
       "    <tr>\n",
       "      <th>0</th>\n",
       "      <td>False</td>\n",
       "    </tr>\n",
       "    <tr>\n",
       "      <th>1</th>\n",
       "      <td>False</td>\n",
       "    </tr>\n",
       "    <tr>\n",
       "      <th>2</th>\n",
       "      <td>True</td>\n",
       "    </tr>\n",
       "    <tr>\n",
       "      <th>3</th>\n",
       "      <td>True</td>\n",
       "    </tr>\n",
       "    <tr>\n",
       "      <th>4</th>\n",
       "      <td>True</td>\n",
       "    </tr>\n",
       "    <tr>\n",
       "      <th>...</th>\n",
       "      <td>...</td>\n",
       "    </tr>\n",
       "    <tr>\n",
       "      <th>7730</th>\n",
       "      <td>False</td>\n",
       "    </tr>\n",
       "    <tr>\n",
       "      <th>7731</th>\n",
       "      <td>False</td>\n",
       "    </tr>\n",
       "    <tr>\n",
       "      <th>7732</th>\n",
       "      <td>False</td>\n",
       "    </tr>\n",
       "    <tr>\n",
       "      <th>7733</th>\n",
       "      <td>False</td>\n",
       "    </tr>\n",
       "    <tr>\n",
       "      <th>7734</th>\n",
       "      <td>False</td>\n",
       "    </tr>\n",
       "  </tbody>\n",
       "</table>\n",
       "<p>7735 rows × 1 columns</p>\n",
       "</div>"
      ],
      "text/plain": [
       "      convivir\n",
       "0        False\n",
       "1        False\n",
       "2         True\n",
       "3         True\n",
       "4         True\n",
       "...        ...\n",
       "7730     False\n",
       "7731     False\n",
       "7732     False\n",
       "7733     False\n",
       "7734     False\n",
       "\n",
       "[7735 rows x 1 columns]"
      ]
     },
     "execution_count": 53,
     "metadata": {},
     "output_type": "execute_result"
    }
   ],
   "source": [
    "encuesta[[\"convivir\"]].notna()\n"
   ]
  },
  {
   "cell_type": "code",
   "execution_count": 54,
   "metadata": {},
   "outputs": [],
   "source": [
    "ver = encuesta[encuesta[\"convivir\"].notnull()]\n"
   ]
  },
  {
   "cell_type": "code",
   "execution_count": 55,
   "metadata": {},
   "outputs": [
    {
     "data": {
      "text/plain": [
       "Región Metropolitana                    369\n",
       "Región de Antofagasta                   164\n",
       "Región de Aysén                         150\n",
       "Región de Coquimbo                      146\n",
       "Región de Tarapacá                      144\n",
       "Región de Arica y Parinacota            142\n",
       "Región del Maule                        137\n",
       "Región del Bío Bío                      134\n",
       "Región de Atacama                       132\n",
       "Región de Los Ríos                      127\n",
       "Región del Lib. Gral. Bdo. O´Higgins    125\n",
       "Región de la Araucanía                  123\n",
       "Región de Valparaíso                    120\n",
       "Región del Ñuble                        112\n",
       "Región de Los Lagos                     110\n",
       "Región de Magallanes                     85\n",
       "Name: reg_rec, dtype: int64"
      ]
     },
     "execution_count": 55,
     "metadata": {},
     "output_type": "execute_result"
    }
   ],
   "source": [
    "ver.reg_rec.value_counts()"
   ]
  },
  {
   "cell_type": "code",
   "execution_count": 56,
   "metadata": {},
   "outputs": [
    {
     "data": {
      "text/plain": [
       "convivir    5415\n",
       "T_p49_1     5415\n",
       "T_p49_2     5415\n",
       "T_p49_3     5415\n",
       "reg_rec        0\n",
       "dtype: int64"
      ]
     },
     "execution_count": 56,
     "metadata": {},
     "output_type": "execute_result"
    }
   ],
   "source": [
    "encuesta[[\"convivir\",'T_p49_1','T_p49_2','T_p49_3']]\n",
    "encuesta[[\"convivir\",'T_p49_1','T_p49_2','T_p49_3', 'reg_rec']].isna().sum()"
   ]
  },
  {
   "cell_type": "code",
   "execution_count": 57,
   "metadata": {},
   "outputs": [],
   "source": [
    "dic = {'Sin estudios':1,\n",
    "'Pre-Kinder o Kinder':2,\n",
    "'Educación básica o Preparatoria incompleta o inferior':3,\n",
    "'Educación Básica o Preparatoria completa':4,\n",
    "'Educación Media o Humanidades incompleta':5,\n",
    "'Educación Media o Humanidades completa':6,\n",
    "'Instituto Profesional o Centros de Formación Técnica incompleta':7,\n",
    "'Instituto Profesional o Centros de Formación Técnica completa':8,\n",
    "'Universitaria incompleta':9,\n",
    "'Universitaria completa':10,\n",
    "'Postgrado (máster, doctor o equivalente)':11,\n",
    "'No sabe (no leer)':88,\n",
    "'No responde (no leer)':99,\n",
    "'Salida':9999}\n",
    "encuesta['p50'] = encuesta['p50'].replace(dic)\n"
   ]
  },
  {
   "cell_type": "code",
   "execution_count": 58,
   "metadata": {},
   "outputs": [],
   "source": [
    "encuesta[\"p51\"].unique()\n",
    "replaces = {\"Si\" : 1, \"No\" : 2, \"\" :  0}"
   ]
  },
  {
   "cell_type": "code",
   "execution_count": 59,
   "metadata": {},
   "outputs": [],
   "source": [
    "dic_2 = {\"Si\" : 1, \"No\" : 2, 'No sabe (no leer)' : 8,\n",
    "'No responde (no leer)':9,\"\":0}\n",
    "encuesta['p51'] = encuesta['p51'].replace(dic_2)"
   ]
  },
  {
   "cell_type": "code",
   "execution_count": 60,
   "metadata": {},
   "outputs": [],
   "source": [
    "dic_3 = {'A veces':1,'Muchas veces': 2,'Siempre':3,\n",
    " 'No sabe (no leer)' : 8,\n",
    " 'No responde (no leer)':9,\"\":0}\n",
    "encuesta['p52'] = encuesta['p52'].replace(dic_3)"
   ]
  },
  {
   "cell_type": "code",
   "execution_count": 61,
   "metadata": {},
   "outputs": [],
   "source": [
    "dic_4 = {'Si':1,'No': 2,'No aplica (no hubo figuras paternas-maternas)':3,\n",
    "'No sabe (no leer)' : 8,\n",
    "'No responde (no leer)':9,\"\":0}\n",
    "encuesta['p53'] = encuesta['p53'].replace(dic_4)\n",
    "encuesta['p54'] = encuesta['p54'].replace(dic_4)"
   ]
  },
  {
   "cell_type": "code",
   "execution_count": 62,
   "metadata": {},
   "outputs": [],
   "source": [
    "dic_6 = {'3 a 6 veces por semana':1,'1 o 2 veces por semana': 2,\n",
    "'1 vez por semana':3, 'Una vez al mes':4,\n",
    "'Menos de una vez al mes':5,'No aplica':6,\n",
    "'No sabe (no leer)' : 8,'No responde (no leer)':9,\"\":0}\n",
    "encuesta['p55'] = encuesta['p55'].replace(dic_6)"
   ]
  },
  {
   "cell_type": "code",
   "execution_count": 63,
   "metadata": {},
   "outputs": [],
   "source": [
    "dic_7 = {'Nunca':1,'Al menos una vez por mes': 2,\n",
    "'A menos una vez por semana':3, 'Todos o casi todos los días':4,\n",
    "'No sabe (no leer)' : 8,'No responde (no leer)':9,\"\":0}\n",
    "encuesta['p56'] = encuesta['p56'].replace(dic_7)"
   ]
  },
  {
   "cell_type": "code",
   "execution_count": 64,
   "metadata": {},
   "outputs": [
    {
     "data": {
      "text/plain": [
       "array([ nan,   5.,   0., 888.,   1., 100.,   2.,   6., 200.,  30.,   9.,\n",
       "        36., 192.,   3.,  15.,  20.,   4.,  48., 120.,   8.,  10.,  12.,\n",
       "       250.,  28., 160., 999.,  25., 365.,  40.,  50.,  80.,  24.,  38.,\n",
       "        44.,  90.,   7., 360.,  18.,  72.,  54.])"
      ]
     },
     "execution_count": 64,
     "metadata": {},
     "output_type": "execute_result"
    }
   ],
   "source": [
    "encuesta['p57'].unique() #abierta"
   ]
  },
  {
   "cell_type": "code",
   "execution_count": 65,
   "metadata": {},
   "outputs": [],
   "source": [
    "dic_8 = {'Si':1,'No': 2,'No sabe (no leer)' : 8,'No responde (no leer)':9,\"\":0}\n"
   ]
  },
  {
   "cell_type": "code",
   "execution_count": 66,
   "metadata": {},
   "outputs": [],
   "source": [
    "encuesta['p58'] = encuesta['p58'].replace(dic_8)\n",
    "encuesta['p59'] = encuesta['p59'].replace(dic_8)\n",
    "encuesta['p61'] = encuesta['p61'].replace(dic_8)"
   ]
  },
  {
   "cell_type": "code",
   "execution_count": 67,
   "metadata": {},
   "outputs": [],
   "source": [
    "dic_ses = {\"Si\": 1, \"No\": 2}"
   ]
  },
  {
   "cell_type": "code",
   "execution_count": 68,
   "metadata": {},
   "outputs": [],
   "source": [
    "#p62_b_1_0X\n",
    "encuesta['p62_b_1_O1'] = encuesta['p62_b_1_O1'].replace(dic_ses)\n",
    "encuesta['p62_b_1_O2'] = encuesta['p62_b_1_O2'].replace(dic_ses)\n",
    "encuesta['p62_b_1_O3'] = encuesta['p62_b_1_O3'].replace(dic_ses)\n",
    "encuesta['p62_b_1_O4'] = encuesta['p62_b_1_O4'].replace(dic_ses)\n",
    "encuesta['p62_b_1_O5'] = encuesta['p62_b_1_O5'].replace(dic_ses)\n",
    "\n",
    "#p62_b_2_0X\n",
    "encuesta['p62_b_2_O1'] = encuesta['p62_b_2_O1'].replace(dic_ses)\n",
    "encuesta['p62_b_2_O2'] = encuesta['p62_b_2_O2'].replace(dic_ses)\n",
    "encuesta['p62_b_2_O3'] = encuesta['p62_b_2_O3'].replace(dic_ses)\n",
    "encuesta['p62_b_2_O4'] = encuesta['p62_b_2_O4'].replace(dic_ses)\n",
    "encuesta['p62_b_2_O5'] = encuesta['p62_b_2_O5'].replace(dic_ses)\n",
    "\n",
    "#p62_b_3_0X\n",
    "encuesta['p62_b_3_O1'] = encuesta['p62_b_3_O1'].replace(dic_ses)\n",
    "encuesta['p62_b_3_O2'] = encuesta['p62_b_3_O2'].replace(dic_ses)\n",
    "encuesta['p62_b_3_O3'] = encuesta['p62_b_3_O3'].replace(dic_ses)\n",
    "encuesta['p62_b_3_O4'] = encuesta['p62_b_3_O4'].replace(dic_ses)\n",
    "encuesta['p62_b_3_O5'] = encuesta['p62_b_3_O5'].replace(dic_ses)\n",
    "\n",
    "#p62_b_4_0X\n",
    "encuesta['p62_b_4_O1'] = encuesta['p62_b_4_O1'].replace(dic_ses)\n",
    "encuesta['p62_b_4_O2'] = encuesta['p62_b_4_O2'].replace(dic_ses)\n",
    "encuesta['p62_b_4_O3'] = encuesta['p62_b_4_O3'].replace(dic_ses)\n",
    "encuesta['p62_b_4_O4'] = encuesta['p62_b_4_O4'].replace(dic_ses)\n",
    "encuesta['p62_b_4_O5'] = encuesta['p62_b_4_O5'].replace(dic_ses)\n"
   ]
  },
  {
   "cell_type": "code",
   "execution_count": 69,
   "metadata": {},
   "outputs": [],
   "source": [
    "dic_9 = {'Decide Ud.':1,'Decide su pareja':2,\n",
    "'Deciden por mutuo acuerdo':3,\n",
    "'Deciden otros miembros ¿Quién o quiénes?':4,\n",
    "'No aplica':6,\"No sabe\":8,\"No responde\":9,\"\":0}"
   ]
  },
  {
   "cell_type": "code",
   "execution_count": 70,
   "metadata": {},
   "outputs": [],
   "source": [
    "encuesta['p63_1'] = encuesta['p63_1'].replace(dic_9)\n",
    "encuesta['p63_2'] = encuesta['p63_2'].replace(dic_9)\n",
    "encuesta['p63_3'] = encuesta['p63_3'].replace(dic_9)"
   ]
  },
  {
   "cell_type": "code",
   "execution_count": 71,
   "metadata": {},
   "outputs": [],
   "source": [
    "dic_10 = {'Muy en desacuerdo':1,'En desacuerdo':2,'Indiferente':3,\n",
    "'De acuerdo':4,'Muy de acuerdo':5,'No sabe (no leer)' : 8,\n",
    "'No responde (no leer)':9,\"\":0}"
   ]
  },
  {
   "cell_type": "code",
   "execution_count": 72,
   "metadata": {},
   "outputs": [],
   "source": [
    "encuesta['p64_1'] = encuesta['p64_1'].replace(dic_10)"
   ]
  }
 ],
 "metadata": {
  "kernelspec": {
   "display_name": "Python 3.10.6 64-bit",
   "language": "python",
   "name": "python3"
  },
  "language_info": {
   "codemirror_mode": {
    "name": "ipython",
    "version": 3
   },
   "file_extension": ".py",
   "mimetype": "text/x-python",
   "name": "python",
   "nbconvert_exporter": "python",
   "pygments_lexer": "ipython3",
   "version": "3.10.6"
  },
  "orig_nbformat": 4,
  "vscode": {
   "interpreter": {
    "hash": "aee8b7b246df8f9039afb4144a1f6fd8d2ca17a180786b69acc140d282b71a49"
   }
  }
 },
 "nbformat": 4,
 "nbformat_minor": 2
}
