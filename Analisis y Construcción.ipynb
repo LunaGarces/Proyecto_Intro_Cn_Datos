{
 "cells": [
  {
   "cell_type": "markdown",
   "id": "b3e584c3-c1ef-4566-972c-2ecdc14941d3",
   "metadata": {},
   "source": [
    "<center><h1>Violencia Intrafamiliar</h1></center>"
   ]
  },
  {
   "cell_type": "markdown",
   "id": "968dffc5-af0f-407d-b5fe-cd011d3005a2",
   "metadata": {},
   "source": [
    "### 1. Contexto y motivación"
   ]
  },
  {
   "cell_type": "markdown",
   "id": "cdf0e07d-f976-42b3-a536-600c5f7630f0",
   "metadata": {},
   "source": [
    "<p> En el último tiempo en Chile se puede ver en los distintos medios de comunicación, ya sea noticias, redes sociales, etc, un aumento considerable en casos de homicidio y violencia hacia la mujer, muchos de estos casos suelen ser provocados por familiares, parejas hacia las víctimas, por lo que nos llamó la atención el poder analizar la relación entre estos casos de violencia y poder sacar datos en común o patrones acerca de estos</p>"
   ]
  },
  {
   "cell_type": "markdown",
   "id": "7be14956-2fb2-483d-8aa7-88faf839a1cc",
   "metadata": {},
   "source": [
    "### 2. Objetivos"
   ]
  },
  {
   "cell_type": "markdown",
   "id": "5f754899-7a90-49d6-8aaa-90be01bcdfff",
   "metadata": {},
   "source": [
    "Como grupo nos planteamos de objetivo el poder encontrar las correlaciones entre los distintos casos de violencia ejercidos hacia la mujer, y así obtener distintos patrones que se generan entre estos.\n",
    "\n",
    "Nuestra intención es poder comparar estos datos, para poder obtener información sobre el aumento o decrecimiento de los casos de violencia a la mujer antes de la cuarentena, durante y después de esta."
   ]
  },
  {
   "cell_type": "markdown",
   "id": "b8645194-d5ce-4006-b503-8d7d43152a35",
   "metadata": {},
   "source": [
    "### 3. Datos"
   ]
  },
  {
   "cell_type": "markdown",
   "id": "826dc07c-4fd6-46e0-8070-44ac8deab6b8",
   "metadata": {},
   "source": [
    "El archivo extraído de la página cead.spd.gov, tratan sobre encuestas realizadas a mujeres que han sufrido de violencia, aquí se realizan preguntas directamente para obtener información de la persona (cuál es su nacionalidad, rango etario entre otros) proporciona información respecto a lo que vivió la mujer, y cómo afronta la situación a día de hoy, junto con algunos datos de características que tenía su pareja"
   ]
  },
  {
   "cell_type": "markdown",
   "id": "d36bdb40-6993-43da-9062-06c412811757",
   "metadata": {},
   "source": [
    "### 4. Preguntas de investigación:"
   ]
  },
  {
   "cell_type": "code",
   "execution_count": 3,
   "id": "92b7e241-3d2a-4f4d-be08-58eb56b1ead9",
   "metadata": {},
   "outputs": [],
   "source": [
    "import pandas as pd\n",
    "import numpy as np\n",
    "import pyreadstat\n",
    "import matplotlib.pyplot as plt\n",
    "import seaborn as sns"
   ]
  },
  {
   "cell_type": "code",
   "execution_count": 187,
   "id": "9270a4af-b37b-425a-9102-45f7fc34302b",
   "metadata": {},
   "outputs": [
    {
     "data": {
      "text/html": [
       "<div>\n",
       "<style scoped>\n",
       "    .dataframe tbody tr th:only-of-type {\n",
       "        vertical-align: middle;\n",
       "    }\n",
       "\n",
       "    .dataframe tbody tr th {\n",
       "        vertical-align: top;\n",
       "    }\n",
       "\n",
       "    .dataframe thead th {\n",
       "        text-align: right;\n",
       "    }\n",
       "</style>\n",
       "<table border=\"1\" class=\"dataframe\">\n",
       "  <thead>\n",
       "    <tr style=\"text-align: right;\">\n",
       "      <th></th>\n",
       "      <th>NIVEL_EDUCACION</th>\n",
       "      <th>OCUPACION</th>\n",
       "      <th>VIOLENCIA_PUBLICA</th>\n",
       "      <th>VIOLENCIA_PUBLICA_NINEZ</th>\n",
       "      <th>VIOLENCIA_PUBLICA_VIDA</th>\n",
       "      <th>VIOLENCIA_LABORAL_ANIO</th>\n",
       "      <th>VIOLENCIA_LABORAL_NINEZ</th>\n",
       "      <th>VIOLENCIA_LABORAL_VIDA</th>\n",
       "      <th>VIOLENCIA_EDUCATIVO_ANIO</th>\n",
       "      <th>VIOLENCIA_EDUCATIVO_NINEZ</th>\n",
       "      <th>...</th>\n",
       "      <th>ABUSOS_SEXUAL_FAMI</th>\n",
       "      <th>RANGO_ETARIO</th>\n",
       "      <th>GRUPO_SOCIOECONOMICO</th>\n",
       "      <th>PERSONAS_EN_HOGAR</th>\n",
       "      <th>ADULTOS_EN_HOGAR</th>\n",
       "      <th>AGRESION</th>\n",
       "      <th>MESES_SIN_TRABAJO</th>\n",
       "      <th>MESES_PAREJA_ACTUAL</th>\n",
       "      <th>MESES_EX_PAREJA</th>\n",
       "      <th>MESES_CONVIVENCIA_EX_PAREJA</th>\n",
       "    </tr>\n",
       "  </thead>\n",
       "  <tbody>\n",
       "    <tr>\n",
       "      <th>0</th>\n",
       "      <td>6.0</td>\n",
       "      <td>1.0</td>\n",
       "      <td>2.0</td>\n",
       "      <td>2.0</td>\n",
       "      <td>1.0</td>\n",
       "      <td>2.0</td>\n",
       "      <td>2.0</td>\n",
       "      <td>2.0</td>\n",
       "      <td>2.0</td>\n",
       "      <td>2.0</td>\n",
       "      <td>...</td>\n",
       "      <td>2.0</td>\n",
       "      <td>4.0</td>\n",
       "      <td>3.0</td>\n",
       "      <td>7.0</td>\n",
       "      <td>7.0</td>\n",
       "      <td>1.0</td>\n",
       "      <td>0.0</td>\n",
       "      <td>0.0</td>\n",
       "      <td>144.0</td>\n",
       "      <td>144.0</td>\n",
       "    </tr>\n",
       "    <tr>\n",
       "      <th>1</th>\n",
       "      <td>6.0</td>\n",
       "      <td>3.0</td>\n",
       "      <td>2.0</td>\n",
       "      <td>2.0</td>\n",
       "      <td>2.0</td>\n",
       "      <td>2.0</td>\n",
       "      <td>2.0</td>\n",
       "      <td>2.0</td>\n",
       "      <td>2.0</td>\n",
       "      <td>2.0</td>\n",
       "      <td>...</td>\n",
       "      <td>2.0</td>\n",
       "      <td>2.0</td>\n",
       "      <td>3.0</td>\n",
       "      <td>4.0</td>\n",
       "      <td>2.0</td>\n",
       "      <td>1.0</td>\n",
       "      <td>1.0</td>\n",
       "      <td>0.0</td>\n",
       "      <td>66.0</td>\n",
       "      <td>66.0</td>\n",
       "    </tr>\n",
       "    <tr>\n",
       "      <th>2</th>\n",
       "      <td>3.0</td>\n",
       "      <td>2.0</td>\n",
       "      <td>2.0</td>\n",
       "      <td>1.0</td>\n",
       "      <td>1.0</td>\n",
       "      <td>2.0</td>\n",
       "      <td>2.0</td>\n",
       "      <td>2.0</td>\n",
       "      <td>2.0</td>\n",
       "      <td>2.0</td>\n",
       "      <td>...</td>\n",
       "      <td>1.0</td>\n",
       "      <td>2.0</td>\n",
       "      <td>3.0</td>\n",
       "      <td>2.0</td>\n",
       "      <td>2.0</td>\n",
       "      <td>9.0</td>\n",
       "      <td>1.0</td>\n",
       "      <td>0.0</td>\n",
       "      <td>12.0</td>\n",
       "      <td>12.0</td>\n",
       "    </tr>\n",
       "    <tr>\n",
       "      <th>3</th>\n",
       "      <td>11.0</td>\n",
       "      <td>8.0</td>\n",
       "      <td>2.0</td>\n",
       "      <td>1.0</td>\n",
       "      <td>1.0</td>\n",
       "      <td>2.0</td>\n",
       "      <td>2.0</td>\n",
       "      <td>2.0</td>\n",
       "      <td>2.0</td>\n",
       "      <td>2.0</td>\n",
       "      <td>...</td>\n",
       "      <td>1.0</td>\n",
       "      <td>4.0</td>\n",
       "      <td>1.0</td>\n",
       "      <td>2.0</td>\n",
       "      <td>2.0</td>\n",
       "      <td>9.0</td>\n",
       "      <td>0.0</td>\n",
       "      <td>0.0</td>\n",
       "      <td>36.0</td>\n",
       "      <td>0.0</td>\n",
       "    </tr>\n",
       "    <tr>\n",
       "      <th>4</th>\n",
       "      <td>8.0</td>\n",
       "      <td>10.0</td>\n",
       "      <td>2.0</td>\n",
       "      <td>2.0</td>\n",
       "      <td>2.0</td>\n",
       "      <td>1.0</td>\n",
       "      <td>2.0</td>\n",
       "      <td>1.0</td>\n",
       "      <td>2.0</td>\n",
       "      <td>2.0</td>\n",
       "      <td>...</td>\n",
       "      <td>2.0</td>\n",
       "      <td>3.0</td>\n",
       "      <td>3.0</td>\n",
       "      <td>3.0</td>\n",
       "      <td>3.0</td>\n",
       "      <td>1.0</td>\n",
       "      <td>0.0</td>\n",
       "      <td>0.0</td>\n",
       "      <td>36.0</td>\n",
       "      <td>36.0</td>\n",
       "    </tr>\n",
       "  </tbody>\n",
       "</table>\n",
       "<p>5 rows × 100 columns</p>\n",
       "</div>"
      ],
      "text/plain": [
       "   NIVEL_EDUCACION  OCUPACION  VIOLENCIA_PUBLICA  VIOLENCIA_PUBLICA_NINEZ  \\\n",
       "0              6.0        1.0                2.0                      2.0   \n",
       "1              6.0        3.0                2.0                      2.0   \n",
       "2              3.0        2.0                2.0                      1.0   \n",
       "3             11.0        8.0                2.0                      1.0   \n",
       "4              8.0       10.0                2.0                      2.0   \n",
       "\n",
       "   VIOLENCIA_PUBLICA_VIDA  VIOLENCIA_LABORAL_ANIO  VIOLENCIA_LABORAL_NINEZ  \\\n",
       "0                     1.0                     2.0                      2.0   \n",
       "1                     2.0                     2.0                      2.0   \n",
       "2                     1.0                     2.0                      2.0   \n",
       "3                     1.0                     2.0                      2.0   \n",
       "4                     2.0                     1.0                      2.0   \n",
       "\n",
       "   VIOLENCIA_LABORAL_VIDA  VIOLENCIA_EDUCATIVO_ANIO  \\\n",
       "0                     2.0                       2.0   \n",
       "1                     2.0                       2.0   \n",
       "2                     2.0                       2.0   \n",
       "3                     2.0                       2.0   \n",
       "4                     1.0                       2.0   \n",
       "\n",
       "   VIOLENCIA_EDUCATIVO_NINEZ  ...  ABUSOS_SEXUAL_FAMI  RANGO_ETARIO  \\\n",
       "0                        2.0  ...                 2.0           4.0   \n",
       "1                        2.0  ...                 2.0           2.0   \n",
       "2                        2.0  ...                 1.0           2.0   \n",
       "3                        2.0  ...                 1.0           4.0   \n",
       "4                        2.0  ...                 2.0           3.0   \n",
       "\n",
       "   GRUPO_SOCIOECONOMICO  PERSONAS_EN_HOGAR  ADULTOS_EN_HOGAR  AGRESION  \\\n",
       "0                   3.0                7.0               7.0       1.0   \n",
       "1                   3.0                4.0               2.0       1.0   \n",
       "2                   3.0                2.0               2.0       9.0   \n",
       "3                   1.0                2.0               2.0       9.0   \n",
       "4                   3.0                3.0               3.0       1.0   \n",
       "\n",
       "   MESES_SIN_TRABAJO  MESES_PAREJA_ACTUAL  MESES_EX_PAREJA  \\\n",
       "0                0.0                  0.0            144.0   \n",
       "1                1.0                  0.0             66.0   \n",
       "2                1.0                  0.0             12.0   \n",
       "3                0.0                  0.0             36.0   \n",
       "4                0.0                  0.0             36.0   \n",
       "\n",
       "   MESES_CONVIVENCIA_EX_PAREJA  \n",
       "0                        144.0  \n",
       "1                         66.0  \n",
       "2                         12.0  \n",
       "3                          0.0  \n",
       "4                         36.0  \n",
       "\n",
       "[5 rows x 100 columns]"
      ]
     },
     "execution_count": 187,
     "metadata": {},
     "output_type": "execute_result"
    }
   ],
   "source": [
    "data_vif = pd.read_spss('Datasets/principal-encuestas/VIF_Final.sav')\n",
    "data_vif.head()"
   ]
  },
  {
   "cell_type": "code",
   "execution_count": 188,
   "id": "592c44e5-f381-4f5a-bf1b-a48f28dd3f7b",
   "metadata": {},
   "outputs": [
    {
     "data": {
      "text/html": [
       "<div>\n",
       "<style scoped>\n",
       "    .dataframe tbody tr th:only-of-type {\n",
       "        vertical-align: middle;\n",
       "    }\n",
       "\n",
       "    .dataframe tbody tr th {\n",
       "        vertical-align: top;\n",
       "    }\n",
       "\n",
       "    .dataframe thead th {\n",
       "        text-align: right;\n",
       "    }\n",
       "</style>\n",
       "<table border=\"1\" class=\"dataframe\">\n",
       "  <thead>\n",
       "    <tr style=\"text-align: right;\">\n",
       "      <th></th>\n",
       "      <th>SEXO</th>\n",
       "      <th>EDAD</th>\n",
       "      <th>PARENTESCO</th>\n",
       "      <th>CURSO</th>\n",
       "      <th>REGION</th>\n",
       "      <th>NIVEL</th>\n",
       "      <th>TERMINO_NIVEL</th>\n",
       "      <th>EST_CONYUGAL</th>\n",
       "      <th>PROVEEDOR</th>\n",
       "    </tr>\n",
       "  </thead>\n",
       "  <tbody>\n",
       "    <tr>\n",
       "      <th>0</th>\n",
       "      <td>2.0</td>\n",
       "      <td>56.0</td>\n",
       "      <td>2.0</td>\n",
       "      <td>2.0</td>\n",
       "      <td>1.0</td>\n",
       "      <td>4.0</td>\n",
       "      <td>2.0</td>\n",
       "      <td>1.0</td>\n",
       "      <td>2.0</td>\n",
       "    </tr>\n",
       "    <tr>\n",
       "      <th>1</th>\n",
       "      <td>2.0</td>\n",
       "      <td>89.0</td>\n",
       "      <td>8.0</td>\n",
       "      <td>3.0</td>\n",
       "      <td>1.0</td>\n",
       "      <td>3.0</td>\n",
       "      <td>2.0</td>\n",
       "      <td>4.0</td>\n",
       "      <td>3.0</td>\n",
       "    </tr>\n",
       "    <tr>\n",
       "      <th>2</th>\n",
       "      <td>2.0</td>\n",
       "      <td>50.0</td>\n",
       "      <td>1.0</td>\n",
       "      <td>5.0</td>\n",
       "      <td>1.0</td>\n",
       "      <td>9.0</td>\n",
       "      <td>1.0</td>\n",
       "      <td>1.0</td>\n",
       "      <td>2.0</td>\n",
       "    </tr>\n",
       "    <tr>\n",
       "      <th>3</th>\n",
       "      <td>2.0</td>\n",
       "      <td>27.0</td>\n",
       "      <td>4.0</td>\n",
       "      <td>2.0</td>\n",
       "      <td>1.0</td>\n",
       "      <td>16.0</td>\n",
       "      <td>1.0</td>\n",
       "      <td>3.0</td>\n",
       "      <td>3.0</td>\n",
       "    </tr>\n",
       "    <tr>\n",
       "      <th>4</th>\n",
       "      <td>2.0</td>\n",
       "      <td>4.0</td>\n",
       "      <td>6.0</td>\n",
       "      <td>0.0</td>\n",
       "      <td>1.0</td>\n",
       "      <td>0.0</td>\n",
       "      <td>2.0</td>\n",
       "      <td>0.0</td>\n",
       "      <td>3.0</td>\n",
       "    </tr>\n",
       "  </tbody>\n",
       "</table>\n",
       "</div>"
      ],
      "text/plain": [
       "   SEXO  EDAD  PARENTESCO  CURSO  REGION  NIVEL  TERMINO_NIVEL  EST_CONYUGAL  \\\n",
       "0   2.0  56.0         2.0    2.0     1.0    4.0            2.0           1.0   \n",
       "1   2.0  89.0         8.0    3.0     1.0    3.0            2.0           4.0   \n",
       "2   2.0  50.0         1.0    5.0     1.0    9.0            1.0           1.0   \n",
       "3   2.0  27.0         4.0    2.0     1.0   16.0            1.0           3.0   \n",
       "4   2.0   4.0         6.0    0.0     1.0    0.0            2.0           0.0   \n",
       "\n",
       "   PROVEEDOR  \n",
       "0        2.0  \n",
       "1        3.0  \n",
       "2        2.0  \n",
       "3        3.0  \n",
       "4        3.0  "
      ]
     },
     "execution_count": 188,
     "metadata": {},
     "output_type": "execute_result"
    }
   ],
   "source": [
    "data_estado_laboral = pd.read_spss(\"Datasets\\E.laboral\\laboral_final.sav\")\n",
    "data_estado_laboral.head()"
   ]
  },
  {
   "cell_type": "code",
   "execution_count": 189,
   "id": "ddada102-2067-4374-8735-e83faa49483d",
   "metadata": {},
   "outputs": [],
   "source": [
    "data_ingresos = pd.read_spss(\"Datasets\\ingresos\\Ingresos_Final.sav\")"
   ]
  },
  {
   "cell_type": "code",
   "execution_count": 190,
   "id": "e620cea7-623a-454e-b731-e31801d79baa",
   "metadata": {},
   "outputs": [
    {
     "data": {
      "text/html": [
       "<div>\n",
       "<style scoped>\n",
       "    .dataframe tbody tr th:only-of-type {\n",
       "        vertical-align: middle;\n",
       "    }\n",
       "\n",
       "    .dataframe tbody tr th {\n",
       "        vertical-align: top;\n",
       "    }\n",
       "\n",
       "    .dataframe thead th {\n",
       "        text-align: right;\n",
       "    }\n",
       "</style>\n",
       "<table border=\"1\" class=\"dataframe\">\n",
       "  <thead>\n",
       "    <tr style=\"text-align: right;\">\n",
       "      <th></th>\n",
       "      <th>SEXO</th>\n",
       "      <th>EDAD</th>\n",
       "      <th>PARENTESCO</th>\n",
       "      <th>NACIONALIDAD</th>\n",
       "      <th>NIVEL</th>\n",
       "      <th>PROVEEDOR</th>\n",
       "      <th>CAE_ESPECIFICO</th>\n",
       "      <th>CATEGORIA_OCUPACION</th>\n",
       "      <th>CODIGO_REGION</th>\n",
       "      <th>CODIGO_COMUNA</th>\n",
       "      <th>TIPO_ESTRATO_HOGAR</th>\n",
       "      <th>MONTO_HOGAR</th>\n",
       "    </tr>\n",
       "  </thead>\n",
       "  <tbody>\n",
       "    <tr>\n",
       "      <th>0</th>\n",
       "      <td>2.0</td>\n",
       "      <td>29.0</td>\n",
       "      <td>2.0</td>\n",
       "      <td>862.0</td>\n",
       "      <td>8.0</td>\n",
       "      <td>0.0</td>\n",
       "      <td>1.0</td>\n",
       "      <td>3.0</td>\n",
       "      <td>8.0</td>\n",
       "      <td>8108.0</td>\n",
       "      <td>1.0</td>\n",
       "      <td>6.408423e+05</td>\n",
       "    </tr>\n",
       "    <tr>\n",
       "      <th>1</th>\n",
       "      <td>2.0</td>\n",
       "      <td>30.0</td>\n",
       "      <td>7.0</td>\n",
       "      <td>152.0</td>\n",
       "      <td>9.0</td>\n",
       "      <td>0.0</td>\n",
       "      <td>1.0</td>\n",
       "      <td>4.0</td>\n",
       "      <td>13.0</td>\n",
       "      <td>13103.0</td>\n",
       "      <td>1.0</td>\n",
       "      <td>1.500000e+06</td>\n",
       "    </tr>\n",
       "    <tr>\n",
       "      <th>2</th>\n",
       "      <td>2.0</td>\n",
       "      <td>43.0</td>\n",
       "      <td>1.0</td>\n",
       "      <td>152.0</td>\n",
       "      <td>9.0</td>\n",
       "      <td>1.0</td>\n",
       "      <td>1.0</td>\n",
       "      <td>3.0</td>\n",
       "      <td>10.0</td>\n",
       "      <td>10301.0</td>\n",
       "      <td>1.0</td>\n",
       "      <td>2.073150e+06</td>\n",
       "    </tr>\n",
       "    <tr>\n",
       "      <th>3</th>\n",
       "      <td>2.0</td>\n",
       "      <td>15.0</td>\n",
       "      <td>4.0</td>\n",
       "      <td>152.0</td>\n",
       "      <td>4.0</td>\n",
       "      <td>0.0</td>\n",
       "      <td>15.0</td>\n",
       "      <td>0.0</td>\n",
       "      <td>2.0</td>\n",
       "      <td>2101.0</td>\n",
       "      <td>1.0</td>\n",
       "      <td>1.081732e+05</td>\n",
       "    </tr>\n",
       "    <tr>\n",
       "      <th>4</th>\n",
       "      <td>2.0</td>\n",
       "      <td>62.0</td>\n",
       "      <td>8.0</td>\n",
       "      <td>152.0</td>\n",
       "      <td>4.0</td>\n",
       "      <td>0.0</td>\n",
       "      <td>19.0</td>\n",
       "      <td>0.0</td>\n",
       "      <td>2.0</td>\n",
       "      <td>2201.0</td>\n",
       "      <td>1.0</td>\n",
       "      <td>1.400000e+05</td>\n",
       "    </tr>\n",
       "  </tbody>\n",
       "</table>\n",
       "</div>"
      ],
      "text/plain": [
       "   SEXO  EDAD  PARENTESCO  NACIONALIDAD  NIVEL  PROVEEDOR  CAE_ESPECIFICO  \\\n",
       "0   2.0  29.0         2.0         862.0    8.0        0.0             1.0   \n",
       "1   2.0  30.0         7.0         152.0    9.0        0.0             1.0   \n",
       "2   2.0  43.0         1.0         152.0    9.0        1.0             1.0   \n",
       "3   2.0  15.0         4.0         152.0    4.0        0.0            15.0   \n",
       "4   2.0  62.0         8.0         152.0    4.0        0.0            19.0   \n",
       "\n",
       "   CATEGORIA_OCUPACION  CODIGO_REGION  CODIGO_COMUNA  TIPO_ESTRATO_HOGAR  \\\n",
       "0                  3.0            8.0         8108.0                 1.0   \n",
       "1                  4.0           13.0        13103.0                 1.0   \n",
       "2                  3.0           10.0        10301.0                 1.0   \n",
       "3                  0.0            2.0         2101.0                 1.0   \n",
       "4                  0.0            2.0         2201.0                 1.0   \n",
       "\n",
       "    MONTO_HOGAR  \n",
       "0  6.408423e+05  \n",
       "1  1.500000e+06  \n",
       "2  2.073150e+06  \n",
       "3  1.081732e+05  \n",
       "4  1.400000e+05  "
      ]
     },
     "execution_count": 190,
     "metadata": {},
     "output_type": "execute_result"
    }
   ],
   "source": [
    "data_ingresos.head()"
   ]
  },
  {
   "cell_type": "markdown",
   "id": "a0d6c2c9-75aa-4e63-870e-d9ba8d9afb67",
   "metadata": {},
   "source": [
    "- ¿En qué zona del país se da más la violencia hacia la mujer, infiere el nivel socioeconómico de la región?"
   ]
  },
  {
   "cell_type": "code",
   "execution_count": 196,
   "id": "86402712-2dda-4580-8089-fc2282a605dd",
   "metadata": {},
   "outputs": [
    {
     "data": {
      "text/html": [
       "<div>\n",
       "<style scoped>\n",
       "    .dataframe tbody tr th:only-of-type {\n",
       "        vertical-align: middle;\n",
       "    }\n",
       "\n",
       "    .dataframe tbody tr th {\n",
       "        vertical-align: top;\n",
       "    }\n",
       "\n",
       "    .dataframe thead th {\n",
       "        text-align: right;\n",
       "    }\n",
       "</style>\n",
       "<table border=\"1\" class=\"dataframe\">\n",
       "  <thead>\n",
       "    <tr style=\"text-align: right;\">\n",
       "      <th></th>\n",
       "      <th>CODIGO_REGION</th>\n",
       "      <th>TIPO_ESTRATO_HOGAR</th>\n",
       "      <th>MONTO_HOGAR</th>\n",
       "    </tr>\n",
       "  </thead>\n",
       "  <tbody>\n",
       "    <tr>\n",
       "      <th>0</th>\n",
       "      <td>1.0</td>\n",
       "      <td>1.0</td>\n",
       "      <td>699793.722734</td>\n",
       "    </tr>\n",
       "    <tr>\n",
       "      <th>1</th>\n",
       "      <td>1.0</td>\n",
       "      <td>2.0</td>\n",
       "      <td>562366.152481</td>\n",
       "    </tr>\n",
       "    <tr>\n",
       "      <th>2</th>\n",
       "      <td>1.0</td>\n",
       "      <td>3.0</td>\n",
       "      <td>303185.049039</td>\n",
       "    </tr>\n",
       "    <tr>\n",
       "      <th>3</th>\n",
       "      <td>2.0</td>\n",
       "      <td>1.0</td>\n",
       "      <td>823886.402463</td>\n",
       "    </tr>\n",
       "    <tr>\n",
       "      <th>4</th>\n",
       "      <td>2.0</td>\n",
       "      <td>2.0</td>\n",
       "      <td>519739.806879</td>\n",
       "    </tr>\n",
       "    <tr>\n",
       "      <th>5</th>\n",
       "      <td>2.0</td>\n",
       "      <td>3.0</td>\n",
       "      <td>322515.675960</td>\n",
       "    </tr>\n",
       "    <tr>\n",
       "      <th>6</th>\n",
       "      <td>3.0</td>\n",
       "      <td>1.0</td>\n",
       "      <td>576637.442304</td>\n",
       "    </tr>\n",
       "    <tr>\n",
       "      <th>7</th>\n",
       "      <td>3.0</td>\n",
       "      <td>2.0</td>\n",
       "      <td>522230.673751</td>\n",
       "    </tr>\n",
       "    <tr>\n",
       "      <th>8</th>\n",
       "      <td>3.0</td>\n",
       "      <td>3.0</td>\n",
       "      <td>472123.366926</td>\n",
       "    </tr>\n",
       "    <tr>\n",
       "      <th>9</th>\n",
       "      <td>4.0</td>\n",
       "      <td>1.0</td>\n",
       "      <td>580111.977331</td>\n",
       "    </tr>\n",
       "  </tbody>\n",
       "</table>\n",
       "</div>"
      ],
      "text/plain": [
       "   CODIGO_REGION  TIPO_ESTRATO_HOGAR    MONTO_HOGAR\n",
       "0            1.0                 1.0  699793.722734\n",
       "1            1.0                 2.0  562366.152481\n",
       "2            1.0                 3.0  303185.049039\n",
       "3            2.0                 1.0  823886.402463\n",
       "4            2.0                 2.0  519739.806879\n",
       "5            2.0                 3.0  322515.675960\n",
       "6            3.0                 1.0  576637.442304\n",
       "7            3.0                 2.0  522230.673751\n",
       "8            3.0                 3.0  472123.366926\n",
       "9            4.0                 1.0  580111.977331"
      ]
     },
     "execution_count": 196,
     "metadata": {},
     "output_type": "execute_result"
    }
   ],
   "source": [
    "ing_reg = data_ingresos.groupby(by = ['CODIGO_REGION', 'TIPO_ESTRATO_HOGAR']).mean().reset_index().loc[:, ['CODIGO_REGION', 'TIPO_ESTRATO_HOGAR','MONTO_HOGAR']]\n",
    "ing_reg.head(10)"
   ]
  },
  {
   "cell_type": "markdown",
   "id": "72ae800b-e837-42cf-a147-b531eaddb493",
   "metadata": {},
   "source": [
    "Como primer paso se analizan las columnas relevantes una a una, para poder hacer un Count de respuestas y así sacar alguna relación correspondiente a cada una"
   ]
  },
  {
   "cell_type": "markdown",
   "id": "115f52cd-4c5a-4633-9dad-8f66efb213fa",
   "metadata": {},
   "source": [
    "#### 'REGIÓN': \n",
    "- 1. Región de Tarapacá\n",
    "- 2. Región de Antofagasta\n",
    "- 3. Región de Atacama\n",
    "- 4. Región de Coquimbo\n",
    "- 5. Región de Valparaíso\n",
    "- 6. Región del Libertador General Bernardo O'Higgins\"\n",
    "- 7. Región del Maule\n",
    "- 8. Región del Biobío\n",
    "- 9. Región de La Araucanía\n",
    "- 10. Región de Los Lagos\n",
    "- 11. Región de Aysén del General Carlos Ibáñez del Campo\n",
    "- 12. Región de Magallanes y Antártica Chilena\n",
    "- 13. Región Metropolitana\n",
    "- 14. Región de Los Ríos\n",
    "- 15. Región de Arica y Parinacota\n",
    "- 16. Ñuble\n",
    "\n",
    "#### 'TIPO_ESTRATO_HOGAR': \n",
    "- 1 : Ciudad\n",
    "- 2 : Resto de Área Urbana \n",
    "- 3 : Rural "
   ]
  },
  {
   "cell_type": "code",
   "execution_count": 204,
   "id": "8c4b496f-5fe4-4bd8-929b-4c86d0d0af50",
   "metadata": {},
   "outputs": [
    {
     "data": {
      "image/png": "[encoded data removed]",
      "text/plain": [
       "<Figure size 1440x720 with 1 Axes>"
      ]
     },
     "metadata": {
      "needs_background": "light"
     },
     "output_type": "display_data"
    }
   ],
   "source": [
    "ax = sns.catplot(y = 'MONTO_HOGAR', x ='CODIGO_REGION',hue='TIPO_ESTRATO_HOGAR', data= ing_reg, kind='bar')\n",
    "ax.fig.set_figwidth(20)\n",
    "ax.fig.set_figheight(10)\n",
    "plt.title('Ingresos promedio de hogares por region')\n",
    "plt.show()"
   ]
  },
  {
   "cell_type": "code",
   "execution_count": 199,
   "id": "104a15bd-ee0d-493c-b0de-62edc86e21b8",
   "metadata": {},
   "outputs": [
    {
     "data": {
      "text/html": [
       "<div>\n",
       "<style scoped>\n",
       "    .dataframe tbody tr th:only-of-type {\n",
       "        vertical-align: middle;\n",
       "    }\n",
       "\n",
       "    .dataframe tbody tr th {\n",
       "        vertical-align: top;\n",
       "    }\n",
       "\n",
       "    .dataframe thead th {\n",
       "        text-align: right;\n",
       "    }\n",
       "</style>\n",
       "<table border=\"1\" class=\"dataframe\">\n",
       "  <thead>\n",
       "    <tr style=\"text-align: right;\">\n",
       "      <th></th>\n",
       "      <th>VIOLENCIA_PUBLICA</th>\n",
       "      <th>VIOLENCIA_PUBLICA_NINEZ</th>\n",
       "      <th>VIOLENCIA_PUBLICA_VIDA</th>\n",
       "      <th>VIOLENCIA_LABORAL_ANIO</th>\n",
       "      <th>VIOLENCIA_LABORAL_NINEZ</th>\n",
       "      <th>VIOLENCIA_LABORAL_VIDA</th>\n",
       "      <th>VIOLENCIA_ECONOMICA</th>\n",
       "      <th>DEPENDENCIA_ECONOMICA</th>\n",
       "    </tr>\n",
       "  </thead>\n",
       "  <tbody>\n",
       "    <tr>\n",
       "      <th>0</th>\n",
       "      <td>2.0</td>\n",
       "      <td>2.0</td>\n",
       "      <td>1.0</td>\n",
       "      <td>2.0</td>\n",
       "      <td>2.0</td>\n",
       "      <td>2.0</td>\n",
       "      <td>2.0</td>\n",
       "      <td>0.0</td>\n",
       "    </tr>\n",
       "    <tr>\n",
       "      <th>1</th>\n",
       "      <td>2.0</td>\n",
       "      <td>2.0</td>\n",
       "      <td>2.0</td>\n",
       "      <td>2.0</td>\n",
       "      <td>2.0</td>\n",
       "      <td>2.0</td>\n",
       "      <td>1.0</td>\n",
       "      <td>1.0</td>\n",
       "    </tr>\n",
       "    <tr>\n",
       "      <th>2</th>\n",
       "      <td>2.0</td>\n",
       "      <td>1.0</td>\n",
       "      <td>1.0</td>\n",
       "      <td>2.0</td>\n",
       "      <td>2.0</td>\n",
       "      <td>2.0</td>\n",
       "      <td>2.0</td>\n",
       "      <td>1.0</td>\n",
       "    </tr>\n",
       "    <tr>\n",
       "      <th>3</th>\n",
       "      <td>2.0</td>\n",
       "      <td>1.0</td>\n",
       "      <td>1.0</td>\n",
       "      <td>2.0</td>\n",
       "      <td>2.0</td>\n",
       "      <td>2.0</td>\n",
       "      <td>2.0</td>\n",
       "      <td>0.0</td>\n",
       "    </tr>\n",
       "    <tr>\n",
       "      <th>4</th>\n",
       "      <td>2.0</td>\n",
       "      <td>2.0</td>\n",
       "      <td>2.0</td>\n",
       "      <td>1.0</td>\n",
       "      <td>2.0</td>\n",
       "      <td>1.0</td>\n",
       "      <td>2.0</td>\n",
       "      <td>0.0</td>\n",
       "    </tr>\n",
       "  </tbody>\n",
       "</table>\n",
       "</div>"
      ],
      "text/plain": [
       "   VIOLENCIA_PUBLICA  VIOLENCIA_PUBLICA_NINEZ  VIOLENCIA_PUBLICA_VIDA  \\\n",
       "0                2.0                      2.0                     1.0   \n",
       "1                2.0                      2.0                     2.0   \n",
       "2                2.0                      1.0                     1.0   \n",
       "3                2.0                      1.0                     1.0   \n",
       "4                2.0                      2.0                     2.0   \n",
       "\n",
       "   VIOLENCIA_LABORAL_ANIO  VIOLENCIA_LABORAL_NINEZ  VIOLENCIA_LABORAL_VIDA  \\\n",
       "0                     2.0                      2.0                     2.0   \n",
       "1                     2.0                      2.0                     2.0   \n",
       "2                     2.0                      2.0                     2.0   \n",
       "3                     2.0                      2.0                     2.0   \n",
       "4                     1.0                      2.0                     1.0   \n",
       "\n",
       "   VIOLENCIA_ECONOMICA  DEPENDENCIA_ECONOMICA  \n",
       "0                  2.0                    0.0  \n",
       "1                  1.0                    1.0  \n",
       "2                  2.0                    1.0  \n",
       "3                  2.0                    0.0  \n",
       "4                  2.0                    0.0  "
      ]
     },
     "execution_count": 199,
     "metadata": {},
     "output_type": "execute_result"
    }
   ],
   "source": [
    "cols = ['VIOLENCIA_PUBLICA',\n",
    "           'VIOLENCIA_PUBLICA_NINEZ', 'VIOLENCIA_PUBLICA_VIDA',\n",
    "           'VIOLENCIA_LABORAL_ANIO', 'VIOLENCIA_LABORAL_NINEZ',\n",
    "           'VIOLENCIA_LABORAL_VIDA','VIOLENCIA_ECONOMICA', 'DEPENDENCIA_ECONOMICA']\n",
    "\n",
    "data_vif[cols].head()"
   ]
  },
  {
   "cell_type": "markdown",
   "id": "4c204e89-89db-41cf-975d-ac2e0009d934",
   "metadata": {},
   "source": [
    "Las columnas elegidas están compuestas de datos \n",
    "#### 1 : SI \n",
    "#### 2 : NO\n",
    "\n",
    "#### encuesta['DEPENDENCIA_ECONOMICA'] \n",
    "- 0 Baja\n",
    "- 1 Mediana \n",
    "- 2 Alta \n",
    "#### GRUPO_SOCIOECONOMICO: \n",
    "- 1 : Alto \n",
    "- 2 : Medio \n",
    "- 3 : Bajo \n"
   ]
  },
  {
   "cell_type": "markdown",
   "id": "7d006314-5f26-4202-9e00-da4ea3030d28",
   "metadata": {},
   "source": [
    "- ## Violencia pública"
   ]
  },
  {
   "cell_type": "markdown",
   "id": "643a8333-29da-4bea-96ac-8512f64ac9f5",
   "metadata": {},
   "source": [
    "Los datos en general indican que en la Región Metropolitana es donde mas las mujeres pueden ser o han sido violentadas en el ámbito laboral/ publico.\n",
    "\n",
    "En ámbitos de violencia pública, para los tres grupos sociales es relativamente similar, a excepción de la columna VIOLENCIA_PUBLICA_VIDA donde se puede notar como el grupo social 1 (Alto), es el que menos a pasado por este tipo de violencia, hablando en un aspecto general de su vida."
   ]
  },
  {
   "cell_type": "code",
   "execution_count": 211,
   "id": "4d8734ea-9c22-450b-a358-c188805ea14b",
   "metadata": {
    "tags": []
   },
   "outputs": [
    {
     "data": {
      "image/png": "[encoded data removed]",
      "text/plain": [
       "<Figure size 1080x360 with 3 Axes>"
      ]
     },
     "metadata": {
      "needs_background": "light"
     },
     "output_type": "display_data"
    },
    {
     "data": {
      "image/png": "[encoded data removed]",
      "text/plain": [
       "<Figure size 1080x360 with 3 Axes>"
      ]
     },
     "metadata": {
      "needs_background": "light"
     },
     "output_type": "display_data"
    },
    {
     "data": {
      "image/png": "[encoded data removed]",
      "text/plain": [
       "<Figure size 1080x360 with 3 Axes>"
      ]
     },
     "metadata": {
      "needs_background": "light"
     },
     "output_type": "display_data"
    }
   ],
   "source": [
    "for i in cols[0:3]:\n",
    "    ax =  sns.catplot(x= i, hue= 'REG_REC', col = 'GRUPO_SOCIOECONOMICO' , kind=\"count\", data = data_vif)\n",
    "    ax.fig.set_figwidth(15)\n",
    "    ax.fig.set_figheight(5)"
   ]
  },
  {
   "cell_type": "markdown",
   "id": "346e5022-a74e-4f96-99e8-9647459896ce",
   "metadata": {},
   "source": [
    "- ## Violencia laboral"
   ]
  },
  {
   "cell_type": "markdown",
   "id": "0f22bbd9-9798-4c16-8bec-f9243c7d4728",
   "metadata": {},
   "source": [
    "Directamente hablando en el ámbito laboral, si bien se puede notar que en la mayoría de regiones las respuestas fueron no, se nota un leve cambio para el grupo social 3 (Bajo), denotando que para las clases sociales mas bajas la violencia en el ámbito laboral esta mas presente aun que sea en cantidad baja.\n"
   ]
  },
  {
   "cell_type": "code",
   "execution_count": 213,
   "id": "1b041c90-a15e-4993-b02b-275019528f79",
   "metadata": {},
   "outputs": [
    {
     "data": {
      "image/png": "[encoded data removed]",
      "text/plain": [
       "<Figure size 1080x360 with 3 Axes>"
      ]
     },
     "metadata": {
      "needs_background": "light"
     },
     "output_type": "display_data"
    },
    {
     "data": {
      "image/png": "[encoded data removed]",
      "text/plain": [
       "<Figure size 1080x360 with 3 Axes>"
      ]
     },
     "metadata": {
      "needs_background": "light"
     },
     "output_type": "display_data"
    },
    {
     "data": {
      "image/png": "[encoded data removed]",
      "text/plain": [
       "<Figure size 1080x360 with 3 Axes>"
      ]
     },
     "metadata": {
      "needs_background": "light"
     },
     "output_type": "display_data"
    }
   ],
   "source": [
    "for i in cols[3:6]:\n",
    "    ax =  sns.catplot(x= i, hue= 'REG_REC', col = 'GRUPO_SOCIOECONOMICO' , kind=\"count\", data = data_vif)\n",
    "    ax.fig.set_figwidth(15)\n",
    "    ax.fig.set_figheight(5)"
   ]
  },
  {
   "cell_type": "markdown",
   "id": "79badf1f-ca89-4647-8524-d9c27f1775c5",
   "metadata": {},
   "source": [
    "- ## Violencia economica"
   ]
  },
  {
   "cell_type": "markdown",
   "id": "c721f693-80dc-4063-ab7d-7169dc626ed1",
   "metadata": {},
   "source": [
    "Al igual que el caso anterior se puede notar que la violencia económica como tal la han sufrido mas los grupos sociales 3 y 2 (Baja, Media), siendo las respuestas del grupo 1 (Alta)prácticamente en su totalidad No. Como ultimo notar que los grupos 3 y 2 también son las que mas dependencia económica tienen."
   ]
  },
  {
   "cell_type": "code",
   "execution_count": 214,
   "id": "e696b842-bed8-4dcc-bd85-de962954a182",
   "metadata": {},
   "outputs": [
    {
     "data": {
      "image/png": "[encoded data removed]",
      "text/plain": [
       "<Figure size 1080x360 with 3 Axes>"
      ]
     },
     "metadata": {
      "needs_background": "light"
     },
     "output_type": "display_data"
    },
    {
     "data": {
      "image/png": "[encoded data removed]",
      "text/plain": [
       "<Figure size 1080x360 with 3 Axes>"
      ]
     },
     "metadata": {
      "needs_background": "light"
     },
     "output_type": "display_data"
    }
   ],
   "source": [
    "for i in cols[6:]:\n",
    "    ax =  sns.catplot(x= i, hue= 'REG_REC', col = 'GRUPO_SOCIOECONOMICO' , kind=\"count\", data = data_vif)\n",
    "    ax.fig.set_figwidth(15)\n",
    "    ax.fig.set_figheight(5)"
   ]
  },
  {
   "cell_type": "markdown",
   "id": "d7ff2085-7298-4fb3-abad-177ea1ecf6a6",
   "metadata": {},
   "source": [
    "Los datos en general indican que en la Región Metropolitana es donde mas las mujeres pueden ser o han sido violentadas en el ámbito laboral/ publico. Esta región de igual forma es la que posee los ingresos mas altos en zonas de ciudad, siendo superada por  la Región de Aysén del General Carlos Ibáñez del Campo (11) en zonas cercanas a la ciudad y por la Región de Magallanes y Antártica Chilena (12)en zonas rurales. \n",
    "\n",
    "\n",
    "SI analizamos la Región de Aysén del General Carlos Ibáñez del Campo (11), y comparamos esto con el resto de gráficos obtenido de la encuesta, Aysén no esta dentro de los valores mas altos donde mas presente violencia, económica/ laboral, a diferencia de Valparaíso que para este tipo de zonas tiene uno de los ingresos mas bajos, y si analizamos se aprecia que en todos los gráficos esta un poco mas alto que Aysén. Lo mismo pasando para Magallanes y La Araucanía, donde Magallanes tiene los ingresos mas altos en zonas rurales y La Araucanía los mas bajos , donde lo valores para casi toda la encuesta son muy bajos, pero esto también se puede deber a la cantidad de avientes por región"
   ]
  },
  {
   "cell_type": "markdown",
   "id": "2be86c61-07d3-4f1c-a161-ea6b2b44b4a9",
   "metadata": {
    "tags": []
   },
   "source": [
    "- ¿Que edades son más propensas a informar respecto a la violencia que han sufrido?"
   ]
  },
  {
   "cell_type": "code",
   "execution_count": 130,
   "id": "7617bcda-b168-40be-805b-54c9e6e7bc27",
   "metadata": {
    "tags": []
   },
   "outputs": [
    {
     "data": {
      "text/html": [
       "<div>\n",
       "<style scoped>\n",
       "    .dataframe tbody tr th:only-of-type {\n",
       "        vertical-align: middle;\n",
       "    }\n",
       "\n",
       "    .dataframe tbody tr th {\n",
       "        vertical-align: top;\n",
       "    }\n",
       "\n",
       "    .dataframe thead th {\n",
       "        text-align: right;\n",
       "    }\n",
       "</style>\n",
       "<table border=\"1\" class=\"dataframe\">\n",
       "  <thead>\n",
       "    <tr style=\"text-align: right;\">\n",
       "      <th></th>\n",
       "      <th>RANGO_ETARIO</th>\n",
       "      <th>VALUE_COUNTS</th>\n",
       "    </tr>\n",
       "  </thead>\n",
       "  <tbody>\n",
       "    <tr>\n",
       "      <th>0</th>\n",
       "      <td>6.0</td>\n",
       "      <td>1489</td>\n",
       "    </tr>\n",
       "    <tr>\n",
       "      <th>1</th>\n",
       "      <td>5.0</td>\n",
       "      <td>1279</td>\n",
       "    </tr>\n",
       "    <tr>\n",
       "      <th>2</th>\n",
       "      <td>3.0</td>\n",
       "      <td>1177</td>\n",
       "    </tr>\n",
       "    <tr>\n",
       "      <th>3</th>\n",
       "      <td>4.0</td>\n",
       "      <td>1151</td>\n",
       "    </tr>\n",
       "    <tr>\n",
       "      <th>4</th>\n",
       "      <td>7.0</td>\n",
       "      <td>702</td>\n",
       "    </tr>\n",
       "    <tr>\n",
       "      <th>5</th>\n",
       "      <td>2.0</td>\n",
       "      <td>624</td>\n",
       "    </tr>\n",
       "    <tr>\n",
       "      <th>6</th>\n",
       "      <td>1.0</td>\n",
       "      <td>148</td>\n",
       "    </tr>\n",
       "  </tbody>\n",
       "</table>\n",
       "</div>"
      ],
      "text/plain": [
       "   RANGO_ETARIO  VALUE_COUNTS\n",
       "0           6.0          1489\n",
       "1           5.0          1279\n",
       "2           3.0          1177\n",
       "3           4.0          1151\n",
       "4           7.0           702\n",
       "5           2.0           624\n",
       "6           1.0           148"
      ]
     },
     "execution_count": 130,
     "metadata": {},
     "output_type": "execute_result"
    }
   ],
   "source": [
    "df_rangos_etarios = data_vif.RANGO_ETARIO.value_counts().reset_index().rename(columns = {'index': 'RANGO_ETARIO', 'RANGO_ETARIO' : 'VALUE_COUNTS'}).sort_values(by='VALUE_COUNTS', ascending=False)\n",
    "df_rangos_etarios"
   ]
  },
  {
   "cell_type": "markdown",
   "id": "1d872a04-5c78-4a04-8cd3-69e838df0d5a",
   "metadata": {},
   "source": [
    "Vemos eventualmente cual es la moda dentro del rango etario"
   ]
  },
  {
   "cell_type": "code",
   "execution_count": 134,
   "id": "ed132c02-8e51-45f4-aaef-e640281644f0",
   "metadata": {},
   "outputs": [
    {
     "name": "stdout",
     "output_type": "stream",
     "text": [
      "La moda del rango etario es: 6.0\n"
     ]
    }
   ],
   "source": [
    "print(f'La moda del rango etario es: {data_vif.RANGO_ETARIO.mode()[0]}')"
   ]
  },
  {
   "cell_type": "markdown",
   "id": "c58d3d63-dd55-4e35-9b11-fe66bb19ba31",
   "metadata": {},
   "source": [
    "Utilizamos la moda, debido a que esta representa el valor que se encuentra con mayor frecuencia en un conjunto de datos, en este caso es el 6, esta opcion corresponde al rango etario 56 a 65 años"
   ]
  },
  {
   "cell_type": "code",
   "execution_count": 137,
   "id": "25b6fabd",
   "metadata": {},
   "outputs": [
    {
     "data": {
      "image/png": "[encoded data removed]",
      "text/plain": [
       "<Figure size 1080x720 with 1 Axes>"
      ]
     },
     "metadata": {
      "needs_background": "light"
     },
     "output_type": "display_data"
    }
   ],
   "source": [
    "fig, ax = plt.subplots(figsize=(15,10))\n",
    "ax = sns.barplot(x = \"RANGO_ETARIO\", y = \"VALUE_COUNTS\", data = df_rangos_etarios)\n",
    "plt.show()"
   ]
  },
  {
   "cell_type": "markdown",
   "id": "6d8ea264-a304-4b4b-b37b-54f7d806f3a6",
   "metadata": {},
   "source": [
    "Podemos ver que a medida que aumenta la edad, aumenta la cantidad de victimas que dan a conocer su casos, esto puede ser causado por el hecho de que cuando son jovenes, puede que no sientan tanta seguridad en dar a conocer su problema, ya sea porque les da miedo, o hasta la persona la cual les genero el daño la puede estar amenazando  "
   ]
  },
  {
   "cell_type": "markdown",
   "id": "3d059d13-2ea5-47ff-b634-66921ee4f7ce",
   "metadata": {},
   "source": [
    "#### **3.- ¿Qué mujeres sufren más violencia intrafamiliar, las que tienen parejas de su mismo sexo o parejas de sexo opuesto? y en que estado civil se encuentran estas personas?** "
   ]
  },
  {
   "cell_type": "code",
   "execution_count": 142,
   "id": "06d3fdc0",
   "metadata": {},
   "outputs": [
    {
     "data": {
      "text/html": [
       "<div>\n",
       "<style scoped>\n",
       "    .dataframe tbody tr th:only-of-type {\n",
       "        vertical-align: middle;\n",
       "    }\n",
       "\n",
       "    .dataframe tbody tr th {\n",
       "        vertical-align: top;\n",
       "    }\n",
       "\n",
       "    .dataframe thead th {\n",
       "        text-align: right;\n",
       "    }\n",
       "</style>\n",
       "<table border=\"1\" class=\"dataframe\">\n",
       "  <thead>\n",
       "    <tr style=\"text-align: right;\">\n",
       "      <th></th>\n",
       "      <th>SEXUALIDAD</th>\n",
       "      <th>VALUE_COUNTS</th>\n",
       "    </tr>\n",
       "  </thead>\n",
       "  <tbody>\n",
       "    <tr>\n",
       "      <th>0</th>\n",
       "      <td>1.0</td>\n",
       "      <td>6482</td>\n",
       "    </tr>\n",
       "    <tr>\n",
       "      <th>1</th>\n",
       "      <td>3.0</td>\n",
       "      <td>39</td>\n",
       "    </tr>\n",
       "    <tr>\n",
       "      <th>2</th>\n",
       "      <td>2.0</td>\n",
       "      <td>37</td>\n",
       "    </tr>\n",
       "    <tr>\n",
       "      <th>3</th>\n",
       "      <td>8.0</td>\n",
       "      <td>6</td>\n",
       "    </tr>\n",
       "    <tr>\n",
       "      <th>4</th>\n",
       "      <td>9.0</td>\n",
       "      <td>4</td>\n",
       "    </tr>\n",
       "    <tr>\n",
       "      <th>5</th>\n",
       "      <td>4.0</td>\n",
       "      <td>2</td>\n",
       "    </tr>\n",
       "  </tbody>\n",
       "</table>\n",
       "</div>"
      ],
      "text/plain": [
       "   SEXUALIDAD  VALUE_COUNTS\n",
       "0         1.0          6482\n",
       "1         3.0            39\n",
       "2         2.0            37\n",
       "3         8.0             6\n",
       "4         9.0             4\n",
       "5         4.0             2"
      ]
     },
     "execution_count": 142,
     "metadata": {},
     "output_type": "execute_result"
    }
   ],
   "source": [
    "df_sexualidad = data_vif.SEXUALIDAD.value_counts().reset_index().rename(columns = {'index': 'SEXUALIDAD', 'SEXUALIDAD' : 'VALUE_COUNTS'}).sort_values(by='VALUE_COUNTS', ascending=False)\n",
    "df_sexualidad"
   ]
  },
  {
   "cell_type": "code",
   "execution_count": 143,
   "id": "223d8246",
   "metadata": {},
   "outputs": [
    {
     "data": {
      "image/png": "[encoded data removed]",
      "text/plain": [
       "<Figure size 1080x720 with 1 Axes>"
      ]
     },
     "metadata": {
      "needs_background": "light"
     },
     "output_type": "display_data"
    }
   ],
   "source": [
    "fig, ax = plt.subplots(figsize=(15,10))\n",
    "ax = sns.barplot(x = \"SEXUALIDAD\", y = \"VALUE_COUNTS\", data = df_sexualidad)\n",
    "plt.show()"
   ]
  },
  {
   "cell_type": "markdown",
   "id": "7f19a426-7a1b-46e1-8d27-fab5ae07cfde",
   "metadata": {},
   "source": [
    "**Podemos ver que no existe una proporcionalidad entre las diferentes tipo de relaciones, siendo por lejos las relaciones heterosexuales, las que por por mucho presentan el hecho de que se genere violencia dentro de la pareja, además a continuacion veremos en que estado civil, estos casos se vuelven más frecuentes**"
   ]
  },
  {
   "cell_type": "code",
   "execution_count": 144,
   "id": "e673f4c2",
   "metadata": {},
   "outputs": [
    {
     "data": {
      "text/html": [
       "<div>\n",
       "<style scoped>\n",
       "    .dataframe tbody tr th:only-of-type {\n",
       "        vertical-align: middle;\n",
       "    }\n",
       "\n",
       "    .dataframe tbody tr th {\n",
       "        vertical-align: top;\n",
       "    }\n",
       "\n",
       "    .dataframe thead th {\n",
       "        text-align: right;\n",
       "    }\n",
       "</style>\n",
       "<table border=\"1\" class=\"dataframe\">\n",
       "  <thead>\n",
       "    <tr style=\"text-align: right;\">\n",
       "      <th></th>\n",
       "      <th>ESTADO_CIVIL</th>\n",
       "      <th>VALUE_COUNTS</th>\n",
       "    </tr>\n",
       "  </thead>\n",
       "  <tbody>\n",
       "    <tr>\n",
       "      <th>0</th>\n",
       "      <td>7.0</td>\n",
       "      <td>2730</td>\n",
       "    </tr>\n",
       "    <tr>\n",
       "      <th>1</th>\n",
       "      <td>1.0</td>\n",
       "      <td>2654</td>\n",
       "    </tr>\n",
       "    <tr>\n",
       "      <th>2</th>\n",
       "      <td>6.0</td>\n",
       "      <td>439</td>\n",
       "    </tr>\n",
       "    <tr>\n",
       "      <th>3</th>\n",
       "      <td>4.0</td>\n",
       "      <td>356</td>\n",
       "    </tr>\n",
       "    <tr>\n",
       "      <th>4</th>\n",
       "      <td>5.0</td>\n",
       "      <td>345</td>\n",
       "    </tr>\n",
       "    <tr>\n",
       "      <th>5</th>\n",
       "      <td>2.0</td>\n",
       "      <td>29</td>\n",
       "    </tr>\n",
       "    <tr>\n",
       "      <th>6</th>\n",
       "      <td>3.0</td>\n",
       "      <td>13</td>\n",
       "    </tr>\n",
       "    <tr>\n",
       "      <th>7</th>\n",
       "      <td>8.0</td>\n",
       "      <td>3</td>\n",
       "    </tr>\n",
       "    <tr>\n",
       "      <th>8</th>\n",
       "      <td>9.0</td>\n",
       "      <td>1</td>\n",
       "    </tr>\n",
       "  </tbody>\n",
       "</table>\n",
       "</div>"
      ],
      "text/plain": [
       "   ESTADO_CIVIL  VALUE_COUNTS\n",
       "0           7.0          2730\n",
       "1           1.0          2654\n",
       "2           6.0           439\n",
       "3           4.0           356\n",
       "4           5.0           345\n",
       "5           2.0            29\n",
       "6           3.0            13\n",
       "7           8.0             3\n",
       "8           9.0             1"
      ]
     },
     "execution_count": 144,
     "metadata": {},
     "output_type": "execute_result"
    }
   ],
   "source": [
    "df_estado_civil = data_vif.ESTADO_CIVIL.value_counts().reset_index().rename(columns = {'index': 'ESTADO_CIVIL', 'ESTADO_CIVIL' : 'VALUE_COUNTS'}).sort_values(by='VALUE_COUNTS', ascending=False) \n",
    "df_estado_civil"
   ]
  },
  {
   "cell_type": "markdown",
   "id": "337101b2-2dc6-414c-a11f-d3bd820379a8",
   "metadata": {},
   "source": [
    "**Vemos que las opciones 7 y 1 predominan dentro del esquema general, estas opciones corresponden a Soltera y Casada, respectivamente**"
   ]
  },
  {
   "cell_type": "code",
   "execution_count": 167,
   "id": "e3c4b442-7fa4-42b4-bc54-670228267c17",
   "metadata": {},
   "outputs": [
    {
     "data": {
      "image/png": "[encoded data removed]",
      "text/plain": [
       "<Figure size 1440x720 with 1 Axes>"
      ]
     },
     "metadata": {
      "needs_background": "light"
     },
     "output_type": "display_data"
    }
   ],
   "source": [
    "fig, ax = plt.subplots(figsize=(20,10))\n",
    "ax = sns.countplot(x='SEXUALIDAD',  hue ='ESTADO_CIVIL', data=data_vif)\n",
    "plt.show()"
   ]
  },
  {
   "cell_type": "markdown",
   "id": "4da64b11-5e57-4779-a584-524af7fdbe02",
   "metadata": {},
   "source": [
    "**Como mencionamos antes, las relaciones heterosexuales predominan en el ambito de la violencia intrafamiliar, y podemos ver que la violencia predomina entre las personas casadas y solteras, siendo estas ultimas donde se da un poco más la situacion de violencia** <br>\n",
    "**Además que si vemos las otras tipo de horientaciones sexuales, veremos que de igual forma el estar soltero aumenta la probabilidad de sufrir violencia**"
   ]
  },
  {
   "cell_type": "markdown",
   "id": "e906a230-b644-499c-9e09-fd8608293800",
   "metadata": {},
   "source": [
    "- ¿Cuáles son las características principales que llevan a la violencia de la mujer?"
   ]
  },
  {
   "cell_type": "code",
   "execution_count": null,
   "id": "07c132c4-3340-4282-b8b1-3baa9107bc44",
   "metadata": {},
   "outputs": [],
   "source": []
  },
  {
   "cell_type": "markdown",
   "id": "673b3487-aa21-4acd-997b-a2e8e14dc313",
   "metadata": {},
   "source": [
    "- ¿Cuales son los pensamientos y/o ideas más frecuentes entre las mujeres que sufre y las que no sufren VIF?"
   ]
  },
  {
   "cell_type": "code",
   "execution_count": 168,
   "id": "c16074b4-96e7-43d3-a7d7-536a9f3ccf7b",
   "metadata": {},
   "outputs": [],
   "source": [
    "cols = ['VIOLENCIA_PUBLICA',\n",
    "        'VIOLENCIA_PUBLICA_NINEZ',\n",
    "        'VILENCIA_PUBLICA_VIDA' ,\n",
    "        'VIOLENCIA_LABORAL_ANIO',\n",
    "        'VIOLENCIA_LABORAL_NINEZ',\n",
    "        'VIOLENCIA_LABORAL_VIDA',\n",
    "        'VIOLENCIA_EDUCATIVO_ANIO',\n",
    "        'VIOLENCIA_EDUCATIVO_NINEZ',\n",
    "        'VIOLENCIA_EDUCATIVO_VIDA', \n",
    "        'VIOLENCIA_PSICOLOGICA_LEVE_ANIO',\n",
    "        'VIOLENCIA_PSICOLOGICA_GRAVE_ANIO',\n",
    "        'VIOLENCIA_PSICOLOGICA_GENERAL_ANIO',\n",
    "        'VIOLENCIA_FISICA_LEVE_ANIO',\n",
    "        'VIOLENCIA_FISICA_GRAVE_ANIO',\n",
    "        'VIOLENCIA_FISICA_GENERAL_ANIO',\n",
    "        'VIOLENCIA_SEXUAL_ANIO',\n",
    "        'VIOLENCIA_SEXUAL_VIDA',\n",
    "        'VIOLENCIA_PSICO_FISICA_SEXUAL_ANIO',\n",
    "        'VIOLENCIA_PSICO_FISICA_SEXUAL_VIDA', \n",
    "        'VIOLENCIA_ECONOMICA',\n",
    "        'DELITOS_SEXUALES_NINEZ', \n",
    "        'VIOLENCIA_ADULTEZ']\n",
    "\n",
    "data_violencia = data_vif[cols].astype(int)\n",
    "data_violencia = data_violencia[cols].astype(str)\n",
    "data_violencia['VIOLENCIA'] = data_violencia[cols].apply(''.join, axis=1)"
   ]
  },
  {
   "cell_type": "code",
   "execution_count": 173,
   "id": "675bf12e-d7bc-48ef-a46b-366b115c185a",
   "metadata": {},
   "outputs": [
    {
     "data": {
      "text/html": [
       "<div>\n",
       "<style scoped>\n",
       "    .dataframe tbody tr th:only-of-type {\n",
       "        vertical-align: middle;\n",
       "    }\n",
       "\n",
       "    .dataframe tbody tr th {\n",
       "        vertical-align: top;\n",
       "    }\n",
       "\n",
       "    .dataframe thead th {\n",
       "        text-align: right;\n",
       "    }\n",
       "</style>\n",
       "<table border=\"1\" class=\"dataframe\">\n",
       "  <thead>\n",
       "    <tr style=\"text-align: right;\">\n",
       "      <th></th>\n",
       "      <th>AFIRMA_HOMBRE_JEFE</th>\n",
       "      <th>HOMBRE_DEBE_RESP_GASTOS_HOGAR</th>\n",
       "      <th>MUJER_ACARGO_HIJOS</th>\n",
       "      <th>MUJER_REALIZAR_QUEHACERES</th>\n",
       "      <th>MUJER_NO_CONTRA_OP</th>\n",
       "      <th>MUJER_PART_SINAPROB</th>\n",
       "      <th>MUJER_ESCOGER_AMIGOS</th>\n",
       "      <th>VEST_APROBADA</th>\n",
       "      <th>RELACIONES_OBLIGADA</th>\n",
       "      <th>VESTIRSE_X_NO_ACOSO</th>\n",
       "      <th>MALTRATO_X_BIEN_FAMILIA</th>\n",
       "      <th>MALTRATO_SE_RESUELVE_EN_CASA</th>\n",
       "      <th>MALTRATO_X_INFIDELIDAD</th>\n",
       "      <th>RANGO_ETARIO</th>\n",
       "      <th>VIOLENCIA</th>\n",
       "      <th>SUFRE_O_SUFRIO_VIOLENCIA</th>\n",
       "    </tr>\n",
       "  </thead>\n",
       "  <tbody>\n",
       "    <tr>\n",
       "      <th>0</th>\n",
       "      <td>1.0</td>\n",
       "      <td>2.0</td>\n",
       "      <td>2.0</td>\n",
       "      <td>1.0</td>\n",
       "      <td>1.0</td>\n",
       "      <td>5.0</td>\n",
       "      <td>4.0</td>\n",
       "      <td>1.0</td>\n",
       "      <td>1.0</td>\n",
       "      <td>1.0</td>\n",
       "      <td>1.0</td>\n",
       "      <td>1.0</td>\n",
       "      <td>2.0</td>\n",
       "      <td>4.0</td>\n",
       "      <td>2212222222222112111222</td>\n",
       "      <td>1</td>\n",
       "    </tr>\n",
       "    <tr>\n",
       "      <th>1</th>\n",
       "      <td>3.0</td>\n",
       "      <td>4.0</td>\n",
       "      <td>4.0</td>\n",
       "      <td>1.0</td>\n",
       "      <td>2.0</td>\n",
       "      <td>5.0</td>\n",
       "      <td>4.0</td>\n",
       "      <td>2.0</td>\n",
       "      <td>2.0</td>\n",
       "      <td>2.0</td>\n",
       "      <td>2.0</td>\n",
       "      <td>4.0</td>\n",
       "      <td>2.0</td>\n",
       "      <td>2.0</td>\n",
       "      <td>2222222221112221111122</td>\n",
       "      <td>1</td>\n",
       "    </tr>\n",
       "    <tr>\n",
       "      <th>2</th>\n",
       "      <td>2.0</td>\n",
       "      <td>2.0</td>\n",
       "      <td>2.0</td>\n",
       "      <td>2.0</td>\n",
       "      <td>2.0</td>\n",
       "      <td>2.0</td>\n",
       "      <td>2.0</td>\n",
       "      <td>2.0</td>\n",
       "      <td>2.0</td>\n",
       "      <td>2.0</td>\n",
       "      <td>2.0</td>\n",
       "      <td>2.0</td>\n",
       "      <td>2.0</td>\n",
       "      <td>2.0</td>\n",
       "      <td>2112222222222221111212</td>\n",
       "      <td>1</td>\n",
       "    </tr>\n",
       "    <tr>\n",
       "      <th>3</th>\n",
       "      <td>1.0</td>\n",
       "      <td>1.0</td>\n",
       "      <td>2.0</td>\n",
       "      <td>3.0</td>\n",
       "      <td>1.0</td>\n",
       "      <td>5.0</td>\n",
       "      <td>4.0</td>\n",
       "      <td>1.0</td>\n",
       "      <td>1.0</td>\n",
       "      <td>1.0</td>\n",
       "      <td>1.0</td>\n",
       "      <td>2.0</td>\n",
       "      <td>1.0</td>\n",
       "      <td>4.0</td>\n",
       "      <td>2112222222222222221212</td>\n",
       "      <td>1</td>\n",
       "    </tr>\n",
       "    <tr>\n",
       "      <th>4</th>\n",
       "      <td>1.0</td>\n",
       "      <td>3.0</td>\n",
       "      <td>1.0</td>\n",
       "      <td>1.0</td>\n",
       "      <td>1.0</td>\n",
       "      <td>5.0</td>\n",
       "      <td>5.0</td>\n",
       "      <td>1.0</td>\n",
       "      <td>1.0</td>\n",
       "      <td>1.0</td>\n",
       "      <td>1.0</td>\n",
       "      <td>4.0</td>\n",
       "      <td>1.0</td>\n",
       "      <td>3.0</td>\n",
       "      <td>2221212221212222111222</td>\n",
       "      <td>1</td>\n",
       "    </tr>\n",
       "  </tbody>\n",
       "</table>\n",
       "</div>"
      ],
      "text/plain": [
       "   AFIRMA_HOMBRE_JEFE  HOMBRE_DEBE_RESP_GASTOS_HOGAR  MUJER_ACARGO_HIJOS  \\\n",
       "0                 1.0                            2.0                 2.0   \n",
       "1                 3.0                            4.0                 4.0   \n",
       "2                 2.0                            2.0                 2.0   \n",
       "3                 1.0                            1.0                 2.0   \n",
       "4                 1.0                            3.0                 1.0   \n",
       "\n",
       "   MUJER_REALIZAR_QUEHACERES  MUJER_NO_CONTRA_OP  MUJER_PART_SINAPROB  \\\n",
       "0                        1.0                 1.0                  5.0   \n",
       "1                        1.0                 2.0                  5.0   \n",
       "2                        2.0                 2.0                  2.0   \n",
       "3                        3.0                 1.0                  5.0   \n",
       "4                        1.0                 1.0                  5.0   \n",
       "\n",
       "   MUJER_ESCOGER_AMIGOS  VEST_APROBADA  RELACIONES_OBLIGADA  \\\n",
       "0                   4.0            1.0                  1.0   \n",
       "1                   4.0            2.0                  2.0   \n",
       "2                   2.0            2.0                  2.0   \n",
       "3                   4.0            1.0                  1.0   \n",
       "4                   5.0            1.0                  1.0   \n",
       "\n",
       "   VESTIRSE_X_NO_ACOSO  MALTRATO_X_BIEN_FAMILIA  MALTRATO_SE_RESUELVE_EN_CASA  \\\n",
       "0                  1.0                      1.0                           1.0   \n",
       "1                  2.0                      2.0                           4.0   \n",
       "2                  2.0                      2.0                           2.0   \n",
       "3                  1.0                      1.0                           2.0   \n",
       "4                  1.0                      1.0                           4.0   \n",
       "\n",
       "   MALTRATO_X_INFIDELIDAD  RANGO_ETARIO               VIOLENCIA  \\\n",
       "0                     2.0           4.0  2212222222222112111222   \n",
       "1                     2.0           2.0  2222222221112221111122   \n",
       "2                     2.0           2.0  2112222222222221111212   \n",
       "3                     1.0           4.0  2112222222222222221212   \n",
       "4                     1.0           3.0  2221212221212222111222   \n",
       "\n",
       "   SUFRE_O_SUFRIO_VIOLENCIA  \n",
       "0                         1  \n",
       "1                         1  \n",
       "2                         1  \n",
       "3                         1  \n",
       "4                         1  "
      ]
     },
     "execution_count": 173,
     "metadata": {},
     "output_type": "execute_result"
    }
   ],
   "source": [
    "data_violencia = pd.concat([data_vif[['AFIRMA_HOMBRE_JEFE',\n",
    "                                        'HOMBRE_DEBE_RESP_GASTOS_HOGAR',\n",
    "                                        'MUJER_ACARGO_HIJOS',\n",
    "                                        'MUJER_REALIZAR_QUEHACERES',\n",
    "                                        'MUJER_NO_CONTRA_OP',\n",
    "                                        'MUJER_PART_SINAPROB',\n",
    "                                        'MUJER_ESCOGER_AMIGOS',\n",
    "                                        'VEST_APROBADA',\n",
    "                                        'RELACIONES_OBLIGADA',\n",
    "                                        'VESTIRSE_X_NO_ACOSO',\n",
    "                                        'MALTRATO_X_BIEN_FAMILIA',\n",
    "                                        'MALTRATO_SE_RESUELVE_EN_CASA',\n",
    "                                        'MALTRATO_X_INFIDELIDAD',\n",
    "                                         'RANGO_ETARIO']], data_violencia[['VIOLENCIA']]], axis = 1)\n",
    "\n",
    "data_violencia['SUFRE_O_SUFRIO_VIOLENCIA'] = np.where(data_violencia['VIOLENCIA'].str.contains('1'),1 , 2) \n",
    "data_violencia.head()"
   ]
  },
  {
   "cell_type": "code",
   "execution_count": 170,
   "id": "6c699c4e-52c8-4657-881e-27f27f6d80b0",
   "metadata": {},
   "outputs": [],
   "source": [
    "#sns.set_theme(style = 'ticks', context = 'talk', palette = 'tab10')"
   ]
  },
  {
   "cell_type": "markdown",
   "id": "ab6c4432-fa49-45de-8ade-4a6108ed8301",
   "metadata": {},
   "source": [
    "En el siguiente gráfico se puede visualizar que en general las mujeres están en desacuerdo en que el hombre sea reconocido con el cargo de jefe del hogar, llevandose la mayor predominancia en las mujeres que sufren o sufrieron algún tipo de violencia"
   ]
  },
  {
   "cell_type": "code",
   "execution_count": 177,
   "id": "e5ad0779-f96f-4144-94eb-395efff9b089",
   "metadata": {},
   "outputs": [
    {
     "data": {
      "image/png": "[encoded data removed]",
      "text/plain": [
       "<Figure size 1440x720 with 2 Axes>"
      ]
     },
     "metadata": {
      "needs_background": "light"
     },
     "output_type": "display_data"
    }
   ],
   "source": [
    "ax = sns.catplot(x='AFIRMA_HOMBRE_JEFE', col = 'SUFRE_O_SUFRIO_VIOLENCIA', data= data_violencia, kind = 'count')\n",
    "ax.fig.set_figwidth(20)\n",
    "ax.fig.set_figheight(10)"
   ]
  },
  {
   "cell_type": "markdown",
   "id": "a1489dba-4159-4e8a-89e9-023b32de5d18",
   "metadata": {},
   "source": [
    "En este caso tambien se puede visualizar loa predominancia en el pensar de la mayoria de las mujeres en que el hombre no debe responsabilizarse de los gastos de  la familia en el hogar.\n",
    "\n",
    "Haciendo un contraste en cuanto al rango etario se puede apreciar que mientras la mujer tiene mas edad piensan estan mas de acuerdo que el hombre si debe responsabilizarse de los los gastos de la familia, esto puede deberse al pensamiento diferente en cuanto a epocas."
   ]
  },
  {
   "cell_type": "code",
   "execution_count": 176,
   "id": "22358f6f-94e6-4249-8365-2ced77987fdc",
   "metadata": {},
   "outputs": [
    {
     "data": {
      "image/png": "[encoded data removed]",
      "text/plain": [
       "<Figure size 1440x720 with 2 Axes>"
      ]
     },
     "metadata": {
      "needs_background": "light"
     },
     "output_type": "display_data"
    }
   ],
   "source": [
    "ax = sns.catplot(x='HOMBRE_DEBE_RESP_GASTOS_HOGAR',  hue = 'RANGO_ETARIO', col = 'SUFRE_O_SUFRIO_VIOLENCIA', data= data_violencia, kind = 'count')\n",
    "ax.fig.set_figwidth(20)\n",
    "ax.fig.set_figheight(10)"
   ]
  },
  {
   "cell_type": "markdown",
   "id": "a4ab5088-dffc-48e8-8ee0-5c7b8174ac46",
   "metadata": {},
   "source": [
    "En este grafico se puede apreciar que la mayoria de las mujeres ya sea que sufran o no violencia piensan que deberian participar de una actividad social, aunque no tenga la aprobación de su esposo/pareja, aunque tambien se da el caso en que aun existe cierta cantidad de mujeres que estan en desacuerdo con este planteamiento"
   ]
  },
  {
   "cell_type": "code",
   "execution_count": 180,
   "id": "beebc16a-bc2a-44bd-86b3-c1b608aff28f",
   "metadata": {},
   "outputs": [
    {
     "data": {
      "image/png": "[encoded data removed]",
      "text/plain": [
       "<Figure size 1440x720 with 2 Axes>"
      ]
     },
     "metadata": {
      "needs_background": "light"
     },
     "output_type": "display_data"
    }
   ],
   "source": [
    "ax = sns.catplot(x='MUJER_ESCOGER_AMIGOS', col = 'SUFRE_O_SUFRIO_VIOLENCIA', data= data_violencia, kind = 'count')\n",
    "ax.fig.set_figwidth(20)\n",
    "ax.fig.set_figheight(10)"
   ]
  },
  {
   "cell_type": "code",
   "execution_count": null,
   "id": "8b6c82e7-0aa1-416c-87e1-d35b631e9d14",
   "metadata": {},
   "outputs": [],
   "source": []
  }
 ],
 "metadata": {
  "kernelspec": {
   "display_name": "Python 3 (ipykernel)",
   "language": "python",
   "name": "python3"
  },
  "language_info": {
   "codemirror_mode": {
    "name": "ipython",
    "version": 3
   },
   "file_extension": ".py",
   "mimetype": "text/x-python",
   "name": "python",
   "nbconvert_exporter": "python",
   "pygments_lexer": "ipython3",
   "version": "3.9.7"
  }
 },
 "nbformat": 4,
 "nbformat_minor": 5
}
